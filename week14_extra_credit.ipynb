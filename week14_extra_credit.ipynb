{
  "cells": [
    {
      "cell_type": "markdown",
      "metadata": {
        "id": "view-in-github",
        "colab_type": "text"
      },
      "source": [
        "<a href=\"https://colab.research.google.com/github/saisrirao/HDS5210-02-Assignments/blob/main/week14_extra_credit.ipynb\" target=\"_parent\"><img src=\"https://colab.research.google.com/assets/colab-badge.svg\" alt=\"Open In Colab\"/></a>"
      ]
    },
    {
      "cell_type": "markdown",
      "metadata": {
        "id": "xutDroQgKnGQ"
      },
      "source": [
        "# Week 14 Extra Credit - How will ChatGPT do on your final project idea?\n",
        "\n",
        "This extra credit assignment is entirely optional.  You do not need to do it.\n",
        "\n",
        "If you would like the opportunity to earn up to 5 extra credit points, complete this assignment and submit it via GitHub as normal before Monday, November 27 at 11:59 PM CST.  No late submissions will be accepted.  The file must be saved to your week13 folder in GitHub."
      ]
    },
    {
      "cell_type": "markdown",
      "metadata": {
        "id": "QDMYcPRtKnGS"
      },
      "source": [
        "## Part 1: Have a conversation with ChatGPT\n",
        "\n",
        "I want you to have a conversation with ChatGPT about your final project idea.  Find out what it thinks about your idea and if it has any data sources (URLs for specific sites) that could be helpful.  Below, either include copy/paste the chat history from your conversation or include a link to the shared chat.  (ChatGPT has an [option to share a link to a specific conversation](https://help.openai.com/en/articles/7925741-chatgpt-shared-links-faq).  It's the up-arrow icon in the upper-right corner of your chat window.)\n",
        "\n",
        "Take this conversationw with ChatGPT as far as you want, but at least ask three or four follow-up questions to refine the information you're getting back.\n",
        "\n",
        "If it starts giving you links to information, don't assume they're going to work. Remember that ChatGPT isn't perfect. So, follow the links and make sure there's information there that matches what ChatGPT says you will find."
      ]
    },
    {
      "cell_type": "markdown",
      "metadata": {
        "id": "t2F675ifKnGS"
      },
      "source": [
        "**RESPONSE**\n",
        "\n",
        "https://chatgpt.com/share/674d1b6f-2880-8010-995c-01e8ddb8e5aa"
      ]
    },
    {
      "cell_type": "markdown",
      "metadata": {
        "id": "QC0KG-IwKnGS"
      },
      "source": [
        "### Part 2: Your reflection\n",
        "\n",
        "Below, tell me what you think ChatGPT did well or not well in your conversation.  Was it good at finding data that you needed?  Was it good at finding actual links that worked?  Did its responses make sense to you?  What did it do well / not well?\n",
        "\n",
        "Your response below should be several sentences.  If you don't have enough feedback, expand your conversation with ChatGPT.  Ask it refine your project idea or start writing code for you.  See what it can do."
      ]
    },
    {
      "cell_type": "markdown",
      "metadata": {
        "id": "HySVxE72KnGS"
      },
      "source": [
        "**RESPONSE**\n",
        "\n",
        "ChatGPT did a good job of providing suggestions for datasets and explaining how to approach insurance claims analysis using Python. It offered clear guidance on relevant libraries and methods for tasks like data cleaning, exploratory analysis, and visualization. The information was structured and actionable, helping to refine project ideas.\n",
        "\n",
        "However, the response could improve by including working links or verifying that suggested datasets (like CMS data or Kaggle datasets) are directly accessible and relevant to the topic. While the explanation made sense, it lacked direct confirmation of the availability of specific datasets or examples of their structure. This might require further manual validation.\n",
        "\n",
        "To enhance this further, I’d suggest testing ChatGPT's ability to write Python code for analyzing sample insurance claims data or integrating it with real datasets."
      ]
    },
    {
      "cell_type": "markdown",
      "metadata": {
        "id": "ZuwG0w87KnGS"
      },
      "source": [
        "### Submitting\n",
        "\n",
        "Submit this as normal to GitHub with the name `week14/week14_extra_credit.ipynb`"
      ]
    },
    {
      "cell_type": "markdown",
      "metadata": {
        "id": "o5nnJG7KKnGT"
      },
      "source": []
    }
  ],
  "metadata": {
    "language_info": {
      "name": "python"
    },
    "colab": {
      "provenance": [],
      "include_colab_link": true
    }
  },
  "nbformat": 4,
  "nbformat_minor": 0
}