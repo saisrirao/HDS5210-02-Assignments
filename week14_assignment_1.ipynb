{
  "cells": [
    {
      "cell_type": "markdown",
      "metadata": {
        "id": "view-in-github",
        "colab_type": "text"
      },
      "source": [
        "<a href=\"https://colab.research.google.com/github/saisrirao/HDS5210-02-Assignments/blob/main/week14_assignment_1.ipynb\" target=\"_parent\"><img src=\"https://colab.research.google.com/assets/colab-badge.svg\" alt=\"Open In Colab\"/></a>"
      ]
    },
    {
      "cell_type": "markdown",
      "metadata": {
        "nbgrader": {
          "grade": false,
          "grade_id": "cell-fc1c39d0d6f8b82a",
          "locked": true,
          "schema_version": 1,
          "solution": false
        },
        "id": "SzrHwVoiAxxP"
      },
      "source": [
        "# Week 14 Review Assignmnet\n",
        "\n",
        "For the questions below, we're going to refer exclusively to an HHCAPS survey data set that is available in `/data/hhcaps.csv`.  Use whatever commands you want to calculate the information required to get to the answer.  Then, enter your answer in the answers cell as usual.\n",
        "\n",
        "**NOTE: Enter your answers as string values (inside quotation marks \"\") even if the answer is actually numeric.**\n",
        "\n",
        "---\n",
        "---\n"
      ]
    },
    {
      "cell_type": "code",
      "execution_count": null,
      "metadata": {
        "nbgrader": {
          "grade": false,
          "grade_id": "intro",
          "locked": true,
          "schema_version": 1,
          "solution": false
        },
        "id": "giRKT6rpAxxQ"
      },
      "outputs": [],
      "source": [
        "%matplotlib inline\n",
        "import pandas as pd\n",
        "\n",
        "hhcaps = pd.read_csv('https://hds5210-data.s3.amazonaws.com/hhcaps.csv')"
      ]
    },
    {
      "cell_type": "markdown",
      "metadata": {
        "nbgrader": {
          "grade": false,
          "grade_id": "q01-intro",
          "locked": true,
          "schema_version": 1,
          "solution": false
        },
        "id": "4-sy4C3UAxxR"
      },
      "source": [
        "## #01 -\n",
        "\n",
        "How many columns does this file contain?"
      ]
    },
    {
      "cell_type": "code",
      "execution_count": null,
      "metadata": {
        "colab": {
          "base_uri": "https://localhost:8080/"
        },
        "id": "05LCLgi3AxxR",
        "outputId": "dbc3d345-bb85-4bed-afbb-c141970c9364"
      },
      "outputs": [
        {
          "output_type": "stream",
          "name": "stdout",
          "text": [
            "39\n"
          ]
        }
      ],
      "source": [
        "num_columns = hhcaps.shape[1]\n",
        "print(num_columns)\n"
      ]
    },
    {
      "cell_type": "code",
      "execution_count": null,
      "metadata": {
        "nbgrader": {
          "grade": false,
          "grade_id": "q01-solution",
          "locked": false,
          "schema_version": 1,
          "solution": true
        },
        "id": "FnP-pRlFAxxR"
      },
      "outputs": [],
      "source": [
        "answers={}\n",
        "answers['40.1'] = 39"
      ]
    },
    {
      "cell_type": "markdown",
      "metadata": {
        "nbgrader": {
          "grade": false,
          "grade_id": "q02-intro",
          "locked": true,
          "schema_version": 1,
          "solution": false
        },
        "id": "rGy7fWRJAxxR"
      },
      "source": [
        "## #02 -\n",
        "\n",
        "How many different values for State are there in this file?"
      ]
    },
    {
      "cell_type": "code",
      "execution_count": null,
      "metadata": {
        "colab": {
          "base_uri": "https://localhost:8080/"
        },
        "id": "CjK1qBOiAxxR",
        "outputId": "d8cef38d-6169-4001-bb47-65e877de7638"
      },
      "outputs": [
        {
          "output_type": "stream",
          "name": "stdout",
          "text": [
            "55\n"
          ]
        }
      ],
      "source": [
        "num_states = hhcaps['State'].nunique()\n",
        "print(num_states)\n"
      ]
    },
    {
      "cell_type": "code",
      "execution_count": null,
      "metadata": {
        "nbgrader": {
          "grade": false,
          "grade_id": "q02-solution",
          "locked": false,
          "schema_version": 1,
          "solution": true
        },
        "id": "yR9_Lh98AxxR"
      },
      "outputs": [],
      "source": [
        "answers['40.2'] = 55"
      ]
    },
    {
      "cell_type": "markdown",
      "metadata": {
        "nbgrader": {
          "grade": false,
          "grade_id": "q03-intro",
          "locked": true,
          "schema_version": 1,
          "solution": false
        },
        "id": "cC0_3u9jAxxS"
      },
      "source": [
        "## #03 -\n",
        "\n",
        "Which of those State values has the highest frequency of occurence?"
      ]
    },
    {
      "cell_type": "code",
      "execution_count": null,
      "metadata": {
        "nbgrader": {
          "grade": false,
          "grade_id": "q03-solution",
          "locked": false,
          "schema_version": 1,
          "solution": true
        },
        "colab": {
          "base_uri": "https://localhost:8080/"
        },
        "id": "H9j7QWfMAxxS",
        "outputId": "c94c901e-cf59-437c-ec66-c87326f9f8dc"
      },
      "outputs": [
        {
          "output_type": "stream",
          "name": "stdout",
          "text": [
            "TX\n"
          ]
        }
      ],
      "source": [
        "most_common_state = hhcaps['State'].value_counts().idxmax()\n",
        "print(most_common_state)\n"
      ]
    },
    {
      "cell_type": "code",
      "execution_count": null,
      "metadata": {
        "nbgrader": {
          "grade": true,
          "grade_id": "q03-test",
          "locked": true,
          "points": 2,
          "schema_version": 1,
          "solution": false
        },
        "id": "gtIUp1M7AxxS"
      },
      "outputs": [],
      "source": [
        "answers['40.3'] = \"TX\""
      ]
    },
    {
      "cell_type": "markdown",
      "metadata": {
        "nbgrader": {
          "grade": false,
          "grade_id": "q04-intro",
          "locked": true,
          "schema_version": 1,
          "solution": false
        },
        "id": "AzzLLxyUAxxS"
      },
      "source": [
        "## #04 -\n",
        "\n",
        "Which of those State values has the best average performance on the `Star Rating for health team communicated well with them` score?"
      ]
    },
    {
      "cell_type": "code",
      "execution_count": null,
      "metadata": {
        "nbgrader": {
          "grade": false,
          "grade_id": "q04-solution",
          "locked": false,
          "schema_version": 1,
          "solution": true
        },
        "colab": {
          "base_uri": "https://localhost:8080/"
        },
        "id": "y_RAnT_hAxxS",
        "outputId": "94ff648d-e957-4e0d-a192-340a99febdd4"
      },
      "outputs": [
        {
          "output_type": "stream",
          "name": "stdout",
          "text": [
            "ME\n"
          ]
        }
      ],
      "source": [
        "\n",
        "avg_star_rating = hhcaps.groupby('State')['Star Rating for health team communicated well with them'].mean()\n",
        "\n",
        "\n",
        "best_state = avg_star_rating.idxmax()\n",
        "print(best_state)\n",
        "\n"
      ]
    },
    {
      "cell_type": "code",
      "execution_count": null,
      "metadata": {
        "nbgrader": {
          "grade": true,
          "grade_id": "q04-test",
          "locked": true,
          "points": 2,
          "schema_version": 1,
          "solution": false
        },
        "id": "I3hP9GWlAxxS"
      },
      "outputs": [],
      "source": [
        "answers['40.4'] = \"ME\""
      ]
    },
    {
      "cell_type": "markdown",
      "metadata": {
        "nbgrader": {
          "grade": false,
          "grade_id": "q05-intro",
          "locked": true,
          "schema_version": 1,
          "solution": false
        },
        "id": "sKncb_IrAxxS"
      },
      "source": [
        "## #05 -\n",
        "\n",
        "What was the average score on `Star Rating for how patients rated overall care from agency` for providers listed as having a `Type of Ownership` of `Hospital Based Program`\n",
        "\n",
        "**NOTE: Enter your answer with two decimal precision: 0.00**"
      ]
    },
    {
      "cell_type": "code",
      "execution_count": null,
      "metadata": {
        "nbgrader": {
          "grade": false,
          "grade_id": "q05-solution",
          "locked": false,
          "schema_version": 1,
          "solution": true
        },
        "colab": {
          "base_uri": "https://localhost:8080/"
        },
        "id": "3rLoQLFBAxxS",
        "outputId": "c9b49339-0c9e-4f34-9108-33acd89d23c8"
      },
      "outputs": [
        {
          "output_type": "stream",
          "name": "stdout",
          "text": [
            "3.69\n"
          ]
        }
      ],
      "source": [
        "\n",
        "hospital_based = hhcaps[hhcaps['Type of Ownership'] == 'Hospital Based Program']\n",
        "\n",
        "avg_overall_care_rating = hospital_based['Star Rating for how patients rated overall care from agency'].mean()\n",
        "\n",
        "avg_overall_care_rating = round(avg_overall_care_rating, 2)\n",
        "print(avg_overall_care_rating)\n"
      ]
    },
    {
      "cell_type": "code",
      "execution_count": null,
      "metadata": {
        "nbgrader": {
          "grade": true,
          "grade_id": "q05-test",
          "locked": true,
          "points": 2,
          "schema_version": 1,
          "solution": false
        },
        "id": "WlMbj86HAxxS"
      },
      "outputs": [],
      "source": [
        "answers['40.5'] = 3.69"
      ]
    },
    {
      "cell_type": "markdown",
      "metadata": {
        "id": "FkqhUy10AxxS"
      },
      "source": [
        "---\n",
        "\n",
        "Checking Your Work\n",
        "---\n",
        "\n",
        "After completing your work above and running each cell, you can check your answers by running the code below.\n",
        "\n",
        "The easiest way to do this is to use the `Kernel` -> `Restart Kernel and Run All Cells` menu option. This option restarts Python and runs every cell from top to bottom until it encounters an exception of some kind.  It will stop after running the cell below and outputing a summary of how many answers you have correct or incorrect.\n"
      ]
    },
    {
      "cell_type": "code",
      "execution_count": null,
      "metadata": {
        "colab": {
          "base_uri": "https://localhost:8080/"
        },
        "id": "JR_wf0XdAxxT",
        "outputId": "423db45c-10f5-45bf-d5f9-ffea4e5685ef"
      },
      "outputs": [
        {
          "output_type": "stream",
          "name": "stdout",
          "text": [
            "Question 40.1 is CORRECT\n",
            "Question 40.2 is CORRECT\n",
            "Question 40.3 is CORRECT\n",
            "Question 40.4 is CORRECT\n",
            "Question 40.5 is CORRECT\n"
          ]
        }
      ],
      "source": [
        "import pickle\n",
        "\n",
        "data = b\"\\x80\\x04\\x95?\\x00\\x00\\x00\\x00\\x00\\x00\\x00}\\x94(\\x8c\\x0440.1\\x94K'\\x8c\\x0440.2\\x94K7\\x8c\\x0440.3\\x94\\x8c\\x02TX\\x94\\x8c\\x0440.4\\x94\\x8c\\x02ME\\x94\\x8c\\x0440.5\\x94G@\\r\\x85\\x1e\\xb8Q\\xeb\\x85u.\"\n",
        "result = pickle.loads(data)\n",
        "\n",
        "for key in result:\n",
        "  if answers[key] == result[key]:\n",
        "    print(f\"Question {key} is CORRECT\")\n",
        "  else:\n",
        "    print(f\"Question {key} is INCORRECT\")"
      ]
    },
    {
      "cell_type": "markdown",
      "metadata": {
        "id": "qka_o9lVAxxT"
      },
      "source": [
        "---\n",
        "\n",
        "## Check your work above\n",
        "\n",
        "If you didn't get them all correct, take a few minutes to think through those that aren't correct.\n",
        "\n",
        "\n",
        "## Submitting Your Work\n",
        "\n",
        "In order to submit your work, you'll need to save this notebook file back to GitHub.  To do that in Google Colab:\n",
        "1. File -> Save a Copy in GitHub\n",
        "2. Make sure your HDS5210 repository is selected\n",
        "3. Make sure the file name includes the week number like this: `week14/week14_assignment_1.ipynb`\n",
        "4. Add a commit message that means something\n",
        "\n",
        "**Be sure week names are lowercase and use a two digit week number!!**\n",
        "\n",
        "**Be sure you use the same file name provided by the instructor!!**\n",
        "\n"
      ]
    }
  ],
  "metadata": {
    "celltoolbar": "Create Assignment",
    "kernelspec": {
      "display_name": "Python 3 (ipykernel)",
      "language": "python",
      "name": "python3"
    },
    "language_info": {
      "codemirror_mode": {
        "name": "ipython",
        "version": 3
      },
      "file_extension": ".py",
      "mimetype": "text/x-python",
      "name": "python",
      "nbconvert_exporter": "python",
      "pygments_lexer": "ipython3",
      "version": "3.13.0"
    },
    "colab": {
      "provenance": [],
      "include_colab_link": true
    }
  },
  "nbformat": 4,
  "nbformat_minor": 0
}