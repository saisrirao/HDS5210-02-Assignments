{
  "cells": [
    {
      "cell_type": "markdown",
      "metadata": {
        "id": "view-in-github",
        "colab_type": "text"
      },
      "source": [
        "<a href=\"https://colab.research.google.com/github/saisrirao/HDS5210-02-Assignments/blob/main/Week14/week14_assignment_2.ipynb\" target=\"_parent\"><img src=\"https://colab.research.google.com/assets/colab-badge.svg\" alt=\"Open In Colab\"/></a>"
      ]
    },
    {
      "cell_type": "markdown",
      "metadata": {
        "nbgrader": {
          "grade": false,
          "grade_id": "cell-fc1c39d0d6f8b82a",
          "locked": true,
          "schema_version": 1,
          "solution": false
        },
        "id": "kOgVk-N37sKF"
      },
      "source": [
        "# Week 14 Programming Assignment\n",
        "\n",
        "As you're working on identifying data for your final project, it's helpful to spend some time exploring your various data files.  For this week's assignment, I'd like you to take a few of the ideas from the the lectures, review assignment, and tonight's lecture to start exploring the data you plan to use for the final project.\n",
        "\n",
        "For the following activities, you can use just one of the data files that you've identified, or you can do the activities using different data files.  That's up to you.  Please describe what you're doing in a Markdown cell or in the comments of your code.  When you've completed the assignment, submit it as normal."
      ]
    },
    {
      "cell_type": "markdown",
      "metadata": {
        "id": "a_LmuKQt7sKG"
      },
      "source": [
        "### 1. Basic Statistics\n",
        "\n",
        "Use Python to read in your data file and show many rows and columns your data has."
      ]
    },
    {
      "cell_type": "code",
      "source": [
        "import pandas as pd\n",
        "from google.colab import files\n",
        "\n",
        "# Upload the file to Colab\n",
        "uploaded = files.upload()\n",
        "\n",
        "# Load the file into a Pandas DataFrame\n",
        "# Use the name of the uploaded file to read data\n",
        "# file_name = list(uploaded.keys())[0]\n",
        "# data = pd.read_excel(r\"C:\\Users\\saisr\\OneDrive\\Desktop\\Air_Quality.xls\")\n",
        "data = pd.read_excel(list(uploaded.keys())[0]) # Changed line\n",
        "\n",
        "# Display the first few rows of the dataset\n",
        "print(\"Data loaded successfully!\")\n",
        "print(data.head())\n",
        "\n",
        "# Display basic information about the dataset\n",
        "print(\"\\nDataset Information:\")\n",
        "data.info()\n",
        "\n",
        "# Number of rows and columns\n",
        "print(\"\\nShape of the dataset (rows, columns):\")\n",
        "print(data.shape)"
      ],
      "metadata": {
        "id": "Jdc4j0dJKKUl",
        "outputId": "c58e8c9c-409b-4bff-8905-49f97a1897b3",
        "colab": {
          "base_uri": "https://localhost:8080/",
          "height": 975
        }
      },
      "execution_count": 35,
      "outputs": [
        {
          "output_type": "display_data",
          "data": {
            "text/plain": [
              "<IPython.core.display.HTML object>"
            ],
            "text/html": [
              "\n",
              "     <input type=\"file\" id=\"files-03b11c33-e362-452c-8c30-1c109491c274\" name=\"files[]\" multiple disabled\n",
              "        style=\"border:none\" />\n",
              "     <output id=\"result-03b11c33-e362-452c-8c30-1c109491c274\">\n",
              "      Upload widget is only available when the cell has been executed in the\n",
              "      current browser session. Please rerun this cell to enable.\n",
              "      </output>\n",
              "      <script>// Copyright 2017 Google LLC\n",
              "//\n",
              "// Licensed under the Apache License, Version 2.0 (the \"License\");\n",
              "// you may not use this file except in compliance with the License.\n",
              "// You may obtain a copy of the License at\n",
              "//\n",
              "//      http://www.apache.org/licenses/LICENSE-2.0\n",
              "//\n",
              "// Unless required by applicable law or agreed to in writing, software\n",
              "// distributed under the License is distributed on an \"AS IS\" BASIS,\n",
              "// WITHOUT WARRANTIES OR CONDITIONS OF ANY KIND, either express or implied.\n",
              "// See the License for the specific language governing permissions and\n",
              "// limitations under the License.\n",
              "\n",
              "/**\n",
              " * @fileoverview Helpers for google.colab Python module.\n",
              " */\n",
              "(function(scope) {\n",
              "function span(text, styleAttributes = {}) {\n",
              "  const element = document.createElement('span');\n",
              "  element.textContent = text;\n",
              "  for (const key of Object.keys(styleAttributes)) {\n",
              "    element.style[key] = styleAttributes[key];\n",
              "  }\n",
              "  return element;\n",
              "}\n",
              "\n",
              "// Max number of bytes which will be uploaded at a time.\n",
              "const MAX_PAYLOAD_SIZE = 100 * 1024;\n",
              "\n",
              "function _uploadFiles(inputId, outputId) {\n",
              "  const steps = uploadFilesStep(inputId, outputId);\n",
              "  const outputElement = document.getElementById(outputId);\n",
              "  // Cache steps on the outputElement to make it available for the next call\n",
              "  // to uploadFilesContinue from Python.\n",
              "  outputElement.steps = steps;\n",
              "\n",
              "  return _uploadFilesContinue(outputId);\n",
              "}\n",
              "\n",
              "// This is roughly an async generator (not supported in the browser yet),\n",
              "// where there are multiple asynchronous steps and the Python side is going\n",
              "// to poll for completion of each step.\n",
              "// This uses a Promise to block the python side on completion of each step,\n",
              "// then passes the result of the previous step as the input to the next step.\n",
              "function _uploadFilesContinue(outputId) {\n",
              "  const outputElement = document.getElementById(outputId);\n",
              "  const steps = outputElement.steps;\n",
              "\n",
              "  const next = steps.next(outputElement.lastPromiseValue);\n",
              "  return Promise.resolve(next.value.promise).then((value) => {\n",
              "    // Cache the last promise value to make it available to the next\n",
              "    // step of the generator.\n",
              "    outputElement.lastPromiseValue = value;\n",
              "    return next.value.response;\n",
              "  });\n",
              "}\n",
              "\n",
              "/**\n",
              " * Generator function which is called between each async step of the upload\n",
              " * process.\n",
              " * @param {string} inputId Element ID of the input file picker element.\n",
              " * @param {string} outputId Element ID of the output display.\n",
              " * @return {!Iterable<!Object>} Iterable of next steps.\n",
              " */\n",
              "function* uploadFilesStep(inputId, outputId) {\n",
              "  const inputElement = document.getElementById(inputId);\n",
              "  inputElement.disabled = false;\n",
              "\n",
              "  const outputElement = document.getElementById(outputId);\n",
              "  outputElement.innerHTML = '';\n",
              "\n",
              "  const pickedPromise = new Promise((resolve) => {\n",
              "    inputElement.addEventListener('change', (e) => {\n",
              "      resolve(e.target.files);\n",
              "    });\n",
              "  });\n",
              "\n",
              "  const cancel = document.createElement('button');\n",
              "  inputElement.parentElement.appendChild(cancel);\n",
              "  cancel.textContent = 'Cancel upload';\n",
              "  const cancelPromise = new Promise((resolve) => {\n",
              "    cancel.onclick = () => {\n",
              "      resolve(null);\n",
              "    };\n",
              "  });\n",
              "\n",
              "  // Wait for the user to pick the files.\n",
              "  const files = yield {\n",
              "    promise: Promise.race([pickedPromise, cancelPromise]),\n",
              "    response: {\n",
              "      action: 'starting',\n",
              "    }\n",
              "  };\n",
              "\n",
              "  cancel.remove();\n",
              "\n",
              "  // Disable the input element since further picks are not allowed.\n",
              "  inputElement.disabled = true;\n",
              "\n",
              "  if (!files) {\n",
              "    return {\n",
              "      response: {\n",
              "        action: 'complete',\n",
              "      }\n",
              "    };\n",
              "  }\n",
              "\n",
              "  for (const file of files) {\n",
              "    const li = document.createElement('li');\n",
              "    li.append(span(file.name, {fontWeight: 'bold'}));\n",
              "    li.append(span(\n",
              "        `(${file.type || 'n/a'}) - ${file.size} bytes, ` +\n",
              "        `last modified: ${\n",
              "            file.lastModifiedDate ? file.lastModifiedDate.toLocaleDateString() :\n",
              "                                    'n/a'} - `));\n",
              "    const percent = span('0% done');\n",
              "    li.appendChild(percent);\n",
              "\n",
              "    outputElement.appendChild(li);\n",
              "\n",
              "    const fileDataPromise = new Promise((resolve) => {\n",
              "      const reader = new FileReader();\n",
              "      reader.onload = (e) => {\n",
              "        resolve(e.target.result);\n",
              "      };\n",
              "      reader.readAsArrayBuffer(file);\n",
              "    });\n",
              "    // Wait for the data to be ready.\n",
              "    let fileData = yield {\n",
              "      promise: fileDataPromise,\n",
              "      response: {\n",
              "        action: 'continue',\n",
              "      }\n",
              "    };\n",
              "\n",
              "    // Use a chunked sending to avoid message size limits. See b/62115660.\n",
              "    let position = 0;\n",
              "    do {\n",
              "      const length = Math.min(fileData.byteLength - position, MAX_PAYLOAD_SIZE);\n",
              "      const chunk = new Uint8Array(fileData, position, length);\n",
              "      position += length;\n",
              "\n",
              "      const base64 = btoa(String.fromCharCode.apply(null, chunk));\n",
              "      yield {\n",
              "        response: {\n",
              "          action: 'append',\n",
              "          file: file.name,\n",
              "          data: base64,\n",
              "        },\n",
              "      };\n",
              "\n",
              "      let percentDone = fileData.byteLength === 0 ?\n",
              "          100 :\n",
              "          Math.round((position / fileData.byteLength) * 100);\n",
              "      percent.textContent = `${percentDone}% done`;\n",
              "\n",
              "    } while (position < fileData.byteLength);\n",
              "  }\n",
              "\n",
              "  // All done.\n",
              "  yield {\n",
              "    response: {\n",
              "      action: 'complete',\n",
              "    }\n",
              "  };\n",
              "}\n",
              "\n",
              "scope.google = scope.google || {};\n",
              "scope.google.colab = scope.google.colab || {};\n",
              "scope.google.colab._files = {\n",
              "  _uploadFiles,\n",
              "  _uploadFilesContinue,\n",
              "};\n",
              "})(self);\n",
              "</script> "
            ]
          },
          "metadata": {}
        },
        {
          "output_type": "stream",
          "name": "stdout",
          "text": [
            "Saving Air_Quality.xls to Air_Quality (4).xls\n",
            "Data loaded successfully!\n",
            "   Unique ID  Indicator ID                                   Name  \\\n",
            "0     179772           640  Boiler Emissions- Total SO2 Emissions   \n",
            "1     179785           640  Boiler Emissions- Total SO2 Emissions   \n",
            "2     178540           365                Fine particles (PM 2.5)   \n",
            "3     178561           365                Fine particles (PM 2.5)   \n",
            "4     823217           365                Fine particles (PM 2.5)   \n",
            "\n",
            "          Measure Measure Info Geo Type Name  Geo Join ID  \\\n",
            "0  Number per km2       number         UHF42        409.0   \n",
            "1  Number per km2       number         UHF42        209.0   \n",
            "2            Mean       mcg/m3         UHF42        209.0   \n",
            "3            Mean       mcg/m3         UHF42        409.0   \n",
            "4            Mean       mcg/m3         UHF42        409.0   \n",
            "\n",
            "            Geo Place Name          Time Period           Start_Date  \\\n",
            "0         Southeast Queens                 2015  2015-01-01 00:00:00   \n",
            "1  Bensonhurst - Bay Ridge                 2015  2015-01-01 00:00:00   \n",
            "2  Bensonhurst - Bay Ridge  Annual Average 2012  2011-01-12 00:00:00   \n",
            "3         Southeast Queens  Annual Average 2012  2011-01-12 00:00:00   \n",
            "4         Southeast Queens          Summer 2022  2022-01-06 00:00:00   \n",
            "\n",
            "   Data Value  Message  \n",
            "0         0.3      NaN  \n",
            "1         1.2      NaN  \n",
            "2         8.6      NaN  \n",
            "3         8.0      NaN  \n",
            "4         6.1      NaN  \n",
            "\n",
            "Dataset Information:\n",
            "<class 'pandas.core.frame.DataFrame'>\n",
            "RangeIndex: 18025 entries, 0 to 18024\n",
            "Data columns (total 12 columns):\n",
            " #   Column          Non-Null Count  Dtype  \n",
            "---  ------          --------------  -----  \n",
            " 0   Unique ID       18025 non-null  int64  \n",
            " 1   Indicator ID    18025 non-null  int64  \n",
            " 2   Name            18025 non-null  object \n",
            " 3   Measure         18025 non-null  object \n",
            " 4   Measure Info    18025 non-null  object \n",
            " 5   Geo Type Name   18025 non-null  object \n",
            " 6   Geo Join ID     18016 non-null  float64\n",
            " 7   Geo Place Name  18016 non-null  object \n",
            " 8   Time Period     18025 non-null  object \n",
            " 9   Start_Date      18025 non-null  object \n",
            " 10  Data Value      18025 non-null  float64\n",
            " 11  Message         0 non-null      float64\n",
            "dtypes: float64(3), int64(2), object(7)\n",
            "memory usage: 1.7+ MB\n",
            "\n",
            "Shape of the dataset (rows, columns):\n",
            "(18025, 12)\n"
          ]
        }
      ]
    },
    {
      "cell_type": "markdown",
      "metadata": {
        "id": "RC19xNfv7sKH"
      },
      "source": [
        "### 2. Data Diversity\n",
        "\n",
        "Use Python to identify how many unique values each column in your data has.  Use Python to identify which column has the greatest number of distinct values (aka the most diversity)?  If your data has a unique identifier (e.g. a person or visit or record ID) then find the column with the next most number of unique values."
      ]
    },
    {
      "cell_type": "code",
      "execution_count": 36,
      "metadata": {
        "id": "6fq66fY_7sKH",
        "outputId": "4066c4a4-72fe-4c29-a137-ab2c03f23fe1",
        "colab": {
          "base_uri": "https://localhost:8080/"
        }
      },
      "outputs": [
        {
          "output_type": "stream",
          "name": "stdout",
          "text": [
            "\n",
            "Unique values per column:\n",
            "Unique ID         18025\n",
            "Indicator ID         21\n",
            "Name                 18\n",
            "Measure               8\n",
            "Measure Info          8\n",
            "Geo Type Name         5\n",
            "Geo Join ID          72\n",
            "Geo Place Name      114\n",
            "Time Period          55\n",
            "Start_Date           43\n",
            "Data Value         1147\n",
            "Message               0\n",
            "dtype: int64\n",
            "\n",
            "Column with the most unique values: Unique ID (18025 unique values)\n",
            "Column with the next most unique values: Unique ID (18025 unique values)\n"
          ]
        }
      ],
      "source": [
        "# Unique value count for each column\n",
        "unique_values = data.nunique()\n",
        "print(\"\\nUnique values per column:\")\n",
        "print(unique_values)\n",
        "\n",
        "# Column with the most unique values\n",
        "most_diverse_column = unique_values.idxmax()\n",
        "print(f\"\\nColumn with the most unique values: {most_diverse_column} ({unique_values[most_diverse_column]} unique values)\")\n",
        "\n",
        "# Exclude unique identifiers if applicable (adjust based on your dataset)\n",
        "excluded_columns = [\"Record ID\"]  # Replace \"Record ID\" with the actual column name if applicable\n",
        "filtered_unique_values = unique_values.drop(index=excluded_columns, errors='ignore')\n",
        "\n",
        "next_most_diverse_column = filtered_unique_values.idxmax()\n",
        "print(f\"Column with the next most unique values: {next_most_diverse_column} ({filtered_unique_values[next_most_diverse_column]} unique values)\")\n",
        "\n",
        ""
      ]
    },
    {
      "cell_type": "markdown",
      "metadata": {
        "id": "C7qAP7RU7sKH"
      },
      "source": [
        "### 3. Data Redundancy\n",
        "\n",
        "Use Python to identify any columns in your data where the value for every row is the same.  For example, if you had a gender column and all the rows said 'M', then you would want to write the code that helped you determine that."
      ]
    },
    {
      "cell_type": "code",
      "execution_count": 37,
      "metadata": {
        "id": "-bHLkiz87sKI",
        "outputId": "53ee962e-076f-455b-cd1d-7586f4119921",
        "colab": {
          "base_uri": "https://localhost:8080/"
        }
      },
      "outputs": [
        {
          "output_type": "stream",
          "name": "stdout",
          "text": [
            "\n",
            "Columns with redundant values (all rows have the same value):\n",
            "[]\n"
          ]
        }
      ],
      "source": [
        "# Columns where all values are the same\n",
        "redundant_columns = data.columns[data.nunique() == 1]\n",
        "print(\"\\nColumns with redundant values (all rows have the same value):\")\n",
        "print(redundant_columns.tolist())\n"
      ]
    },
    {
      "cell_type": "markdown",
      "metadata": {
        "id": "q910LLgD7sKI"
      },
      "source": [
        "### 4. Range of Values\n",
        "\n",
        "Your data almost certainly has some numeric columns that can be summed or averaged.  Create a histogram that shows the distribution of values for this column."
      ]
    },
    {
      "cell_type": "code",
      "execution_count": 38,
      "metadata": {
        "id": "G6IcyyW97sKI",
        "outputId": "2a28f74c-1311-4dc4-bc9f-5f3966df7be3",
        "colab": {
          "base_uri": "https://localhost:8080/"
        }
      },
      "outputs": [
        {
          "output_type": "stream",
          "name": "stdout",
          "text": [
            "Column 'Blood Pressure' is not numeric or doesn't exist in the dataset.\n"
          ]
        }
      ],
      "source": [
        "import matplotlib.pyplot as plt\n",
        "\n",
        "# Select a numeric column (replace 'ColumnName' with the actual name of a numeric column)\n",
        "numeric_column = \"Blood Pressure\"  # Replace with a valid column name\n",
        "if numeric_column in data.select_dtypes(include='number').columns:\n",
        "    # Plot histogram\n",
        "    plt.hist(data[numeric_column], bins=15, color='blue', edgecolor='black')\n",
        "    plt.title(f\"Distribution of {numeric_column}\")\n",
        "    plt.xlabel(numeric_column)\n",
        "    plt.ylabel(\"Frequency\")\n",
        "    plt.show()\n",
        "else:\n",
        "    print(f\"Column '{numeric_column}' is not numeric or doesn't exist in the dataset.\")\n"
      ]
    },
    {
      "cell_type": "markdown",
      "metadata": {
        "id": "mRhsTjMo7sKI"
      },
      "source": [
        "### 5. Discussion\n",
        "\n",
        "Do any additional exploration of this data that you think may be interesting and include your code here.  Then go onto Slack and make a post about what you've observed.  Share your observation.  Share your code, if you like.  Share a screenshot of the data or a chart based on the data.\n",
        "\n",
        "Then comment on at least two other people's observations that they share on Slack.  (Use the reply as thread option in Slack to keep the conversation organized.)"
      ]
    },
    {
      "cell_type": "code",
      "execution_count": 40,
      "metadata": {
        "id": "VKUfWHw-7sKI",
        "outputId": "75e32ef2-3d40-482b-a222-b1a3788ef2ef",
        "colab": {
          "base_uri": "https://localhost:8080/",
          "height": 782
        }
      },
      "outputs": [
        {
          "output_type": "stream",
          "name": "stdout",
          "text": [
            "\n",
            "Correlation Matrix:\n",
            "              Unique ID  Indicator ID  Geo Join ID  Data Value  Message\n",
            "Unique ID      1.000000      0.062181    -0.002419   -0.020959      NaN\n",
            "Indicator ID   0.062181      1.000000    -0.040888    0.336881      NaN\n",
            "Geo Join ID   -0.002419     -0.040888     1.000000   -0.011104      NaN\n",
            "Data Value    -0.020959      0.336881    -0.011104    1.000000      NaN\n",
            "Message             NaN           NaN          NaN         NaN      NaN\n"
          ]
        },
        {
          "output_type": "display_data",
          "data": {
            "text/plain": [
              "<Figure size 640x480 with 2 Axes>"
            ],
            "image/png": "[encoded data removed]"
          },
          "metadata": {}
        },
        {
          "output_type": "stream",
          "name": "stdout",
          "text": [
            "\n",
            "Summary Statistics:\n",
            "           Unique ID  Indicator ID   Geo Join ID    Data Value  Message\n",
            "count   18025.000000  18025.000000  1.801600e+04  18025.000000      0.0\n",
            "mean   426387.692705    434.830180  5.906303e+05     21.428616      NaN\n",
            "std    250489.450630    115.852371  7.769549e+06     23.999345      NaN\n",
            "min    121644.000000    365.000000  1.000000e+00      0.000000      NaN\n",
            "25%    175303.000000    365.000000  2.020000e+02      8.900000      NaN\n",
            "50%    410803.000000    375.000000  3.030000e+02     15.200000      NaN\n",
            "75%    649893.000000    386.000000  4.040000e+02     26.700000      NaN\n",
            "max    828353.000000    661.000000  1.051061e+08    424.700000      NaN\n"
          ]
        }
      ],
      "source": [
        "import pandas as pd\n",
        "import numpy as np\n",
        "import matplotlib.pyplot as plt\n",
        "import seaborn as sns\n",
        "\n",
        "# Correlation matrix for numeric columns\n",
        "# Include 'numeric_only=True' to only include numerical columns in the correlation calculation\n",
        "correlation_matrix = data.corr(numeric_only=True)\n",
        "print(\"\\nCorrelation Matrix:\")\n",
        "print(correlation_matrix)\n",
        "\n",
        "# Visualize correlation matrix as a heatmap\n",
        "sns.heatmap(correlation_matrix, annot=True, cmap='coolwarm', fmt=\".2f\")\n",
        "plt.title(\"Correlation Matrix Heatmap\")\n",
        "plt.show()\n",
        "\n",
        "# Summary statistics for numeric columns\n",
        "print(\"\\nSummary Statistics:\")\n",
        "print(data.describe())\n"
      ]
    },
    {
      "cell_type": "markdown",
      "metadata": {
        "id": "oFYKqfpY7sKI"
      },
      "source": [
        "\n",
        "\n",
        "---\n",
        "\n",
        "\n",
        "\n",
        "## Submitting Your Work\n",
        "\n",
        "Submit your work as usual."
      ]
    },
    {
      "cell_type": "code",
      "execution_count": null,
      "metadata": {
        "id": "qOqtva6B7sKJ"
      },
      "outputs": [],
      "source": []
    }
  ],
  "metadata": {
    "celltoolbar": "Create Assignment",
    "kernelspec": {
      "display_name": "Python 3",
      "language": "python",
      "name": "python3"
    },
    "language_info": {
      "codemirror_mode": {
        "name": "ipython",
        "version": 3
      },
      "file_extension": ".py",
      "mimetype": "text/x-python",
      "name": "python",
      "nbconvert_exporter": "python",
      "pygments_lexer": "ipython3",
      "version": "3.6.7"
    },
    "colab": {
      "provenance": [],
      "include_colab_link": true
    }
  },
  "nbformat": 4,
  "nbformat_minor": 0
}