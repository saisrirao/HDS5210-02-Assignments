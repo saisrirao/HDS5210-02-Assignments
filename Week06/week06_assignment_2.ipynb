{
  "cells": [
    {
      "cell_type": "markdown",
      "metadata": {
        "id": "view-in-github",
        "colab_type": "text"
      },
      "source": [
        "<a href=\"https://colab.research.google.com/github/saisrirao/HDS5210-02-Assignments/blob/main/Week06/week06_assignment_2.ipynb\" target=\"_parent\"><img src=\"https://colab.research.google.com/assets/colab-badge.svg\" alt=\"Open In Colab\"/></a>"
      ]
    },
    {
      "cell_type": "markdown",
      "metadata": {
        "nbgrader": {
          "grade": false,
          "grade_id": "intro",
          "locked": true,
          "schema_version": 1,
          "solution": false
        },
        "id": "HbrvTH6MDxeX"
      },
      "source": [
        "# Week 6 Exercises\n",
        "\n",
        "_McKinney 6.1_\n",
        "\n",
        "There are multiple ways to solve the problems below.  You can use any one of several approaches.  For example, you can read CSV files using Pandas or the csv module.  Your score won't depend on which modules you choose to use unless explicitly noted below, but your programming style will still matter."
      ]
    },
    {
      "cell_type": "markdown",
      "metadata": {
        "id": "fcFrahedDxeb"
      },
      "source": [
        "### 30.0 Create sample data in local directory"
      ]
    },
    {
      "cell_type": "code",
      "execution_count": 10,
      "metadata": {
        "id": "QUF1Y8WODxec"
      },
      "outputs": [],
      "source": [
        "import pickle\n",
        "\n",
        "raw = b'\\x80\\x04\\x95\\xac\\x10\\x00\\x00\\x00\\x00\\x00\\x00X\\xa5\\x10\\x00\\x00{\\n  \"entry\": [\\n    {\\n      \"resource\": {\\n        \"resourceType\": \"AllergyIntolerance\",\\n        \"recordedDate\": \"2015-08-24T23:11:36Z\",\\n        \"status\": \"confirmed\",\\n        \"criticality\": \"CRITL\",\\n        \"onset\": \"2012-11-07T00:00:00Z\",\\n        \"patient\": {\\n          \"display\": \"Jason Argonaut\"\\n        },\\n        \"substance\": {\\n          \"text\": \"PENICILLIN G\",\\n          \"coding\": [\\n            {\\n              \"system\": \"http://www.nlm.nih.gov/research/umls/rxnorm\",\\n              \"code\": \"7980\",\\n              \"display\": \"PENICILLIN G\"\\n            },\\n            {\\n              \"system\": \"http://fdasis.nlm.nih.gov\",\\n              \"code\": \"Q42T66VG0C\",\\n              \"display\": \"PENICILLIN G\"\\n            }\\n          ]\\n        },\\n        \"reaction\": [\\n          {\\n            \"certainty\": \"confirmed\",\\n            \"onset\": \"2012-11-07T00:00:00Z\",\\n            \"manifestation\": [\\n              {\\n                \"text\": \"Hives\"\\n              }\\n            ],\\n            \"note\": {\\n              \"text\": \"Severity low enough to be prescribed if needed.\"\\n            }\\n          }\\n        ],\\n        \"note\": {\\n          \"text\": \"Severity low enough to be prescribed if needed.\"\\n        }\\n      }\\n    },\\n    {\\n      \"resource\": {\\n        \"resourceType\": \"AllergyIntolerance\",\\n        \"recordedDate\": \"2015-11-07T20:55:10Z\",\\n        \"status\": \"confirmed\",\\n        \"criticality\": \"CRITL\",\\n        \"id\": \"TPcWiBG2h2E114Vh0sRT8fQB\",\\n        \"onset\": \"2010-05-02T00:00:00Z\",\\n        \"patient\": {\\n          \"display\": \"Jason Argonaut\"\\n        },\\n        \"substance\": {\\n          \"text\": \"SHELLFISH-DERIVED PRODUCTS\",\\n          \"coding\": [\\n            {\\n              \"system\": \"http://hl7.org/fhir/ndfrt\",\\n              \"code\": \"N0000007624\",\\n              \"display\": \"SHELLFISH-DERIVED PRODUCTS\"\\n            }\\n          ]\\n        },\\n        \"reaction\": [\\n          {\\n            \"certainty\": \"confirmed\",\\n            \"onset\": \"2010-05-02T00:00:00Z\",\\n            \"manifestation\": [\\n              {\\n                \"text\": \"Itching\"\\n              }\\n            ]\\n          }\\n        ]\\n      }\\n    },\\n    {\\n      \"resource\": {\\n        \"resourceType\": \"AllergyIntolerance\",\\n        \"recordedDate\": \"2015-11-07T20:56:34Z\",\\n        \"status\": \"confirmed\",\\n        \"criticality\": \"CRITH\",\\n        \"id\": \"TKebKfLXzu6Sp.LY-IpvpmQB\",\\n        \"onset\": \"2014-03-07T00:00:00Z\",\\n        \"patient\": {\\n          \"display\": \"Jason Argonaut\"\\n        },\\n        \"substance\": {\\n          \"text\": \"STRAWBERRY\",\\n          \"coding\": [\\n            {\\n              \"system\": \"http://www.nlm.nih.gov/research/umls/rxnorm\",\\n              \"code\": \"892484\",\\n              \"display\": \"STRAWBERRY\"\\n            },\\n            {\\n              \"system\": \"http://fdasis.nlm.nih.gov\",\\n              \"code\": \"4J2TY8Y81V\",\\n              \"display\": \"STRAWBERRY\"\\n            }\\n          ]\\n        },\\n        \"reaction\": [\\n          {\\n            \"certainty\": \"confirmed\",\\n            \"onset\": \"2014-03-07T00:00:00Z\",\\n            \"manifestation\": [\\n              {\\n                \"text\": \"Anaphylaxis\"\\n              }\\n            ]\\n          }\\n        ]\\n      }\\n    },\\n    {\\n      \"resource\": {\\n        \"resourceType\": \"AllergyIntolerance\",\\n        \"recordedDate\": \"2015-08-24T23:11:36Z\",\\n        \"status\": \"confirmed\",\\n        \"criticality\": \"CRITL\",\\n        \"onset\": \"1978-12-08T00:00:00Z\",\\n        \"patient\": {\\n          \"display\": \"Paul Boal\"\\n        },\\n        \"substance\": {\\n          \"text\": \"PENICILLIN G\",\\n          \"coding\": [\\n            {\\n              \"system\": \"http://www.nlm.nih.gov/research/umls/rxnorm\",\\n              \"code\": \"7980\",\\n              \"display\": \"PENICILLIN G\"\\n            },\\n            {\\n              \"system\": \"http://fdasis.nlm.nih.gov\",\\n              \"code\": \"Q42T66VG0C\",\\n              \"display\": \"PENICILLIN G\"\\n            }\\n          ]\\n        },\\n        \"reaction\": [\\n          {\\n            \"certainty\": \"confirmed\",\\n            \"onset\": \"1978-12-08T00:00:00Z\",\\n            \"manifestation\": [\\n              {\\n                \"text\": \"Bruising\"\\n              }\\n            ],\\n            \"note\": {\\n              \"text\": \"Do not prescribe!\"\\n            }\\n          }\\n        ],\\n        \"note\": {\\n          \"text\": \"Do not prescribe!\"\\n        }\\n      }\\n    }\\n  ]\\n}\\n\\x94.'\n",
        "json_data = pickle.loads(raw)\n",
        "\n",
        "with open(\"allergies.json\", \"w\") as f:\n",
        "    f.write(json_data)"
      ]
    },
    {
      "cell_type": "markdown",
      "metadata": {
        "nbgrader": {
          "grade": false,
          "grade_id": "q1-description",
          "locked": true,
          "schema_version": 1,
          "solution": false
        },
        "id": "7vFduUoODxed"
      },
      "source": [
        "### 30.1 List of Allergies\n",
        "\n",
        "After running 30.0 to create your input data file, there is a file called `allergies.json` that contains a list of patient allergies. It is taken from sample data provided by the EHR vendor, Epic, here: https://open.epic.com/Clinical/Allergy\n",
        "\n",
        "Take some time to look at the structure of the file.  You can open it directly in Jupyter by clicking the _Home_ icon, then the _from_instructor_ folder, and then the _data_ folder.\n",
        "\n",
        "Within the file, you'll see that it is a dictionary with many items in it.  One of those items is called `entry` and that item is a list of things.  You can tell that because the item name is immediately followed by an opening square bracket, signifying the start of a list.  It's line 11 of the file: `  \"entry\": [`\n",
        "\n",
        "Write a function named `allergy_count(json_file)` that takes as one parameter the name of the JSON file and returns an integer number of entries in that file.  Your function should open the file, read the json into a Python object, and return how many items there are in the list of `entry`s."
      ]
    },
    {
      "cell_type": "code",
      "execution_count": 1,
      "metadata": {
        "id": "Ys_3bQKYDxee"
      },
      "outputs": [],
      "source": [
        "import json\n",
        "ALLERGIES_FILE=\"allergies.json\""
      ]
    },
    {
      "cell_type": "code",
      "execution_count": 15,
      "metadata": {
        "nbgrader": {
          "grade": false,
          "grade_id": "q1-answer",
          "locked": false,
          "schema_version": 1,
          "solution": true
        },
        "id": "K5sZoLBPDxee"
      },
      "outputs": [],
      "source": [
        "import json\n",
        "#allergy_count is a fuction to take json file  as a parameter\n",
        "def allergy_count(json_file):\n",
        "    with open(json_file) as saisri:\n",
        " #json is file is now  assigned to the variable saisri\n",
        "        data = json.load(saisri)\n",
        "    return len(data['entry'])\n"
      ]
    },
    {
      "cell_type": "code",
      "execution_count": 16,
      "metadata": {
        "collapsed": true,
        "id": "yESdEnI9Dxee",
        "outputId": "6144c820-3474-44d6-88bf-d8d5f0576ce3",
        "colab": {
          "base_uri": "https://localhost:8080/"
        }
      },
      "outputs": [
        {
          "output_type": "execute_result",
          "data": {
            "text/plain": [
              "4"
            ]
          },
          "metadata": {},
          "execution_count": 16
        }
      ],
      "source": [
        "allergy_count(ALLERGIES_FILE)"
      ]
    },
    {
      "cell_type": "code",
      "execution_count": 17,
      "metadata": {
        "nbgrader": {
          "grade": true,
          "grade_id": "q1-tests",
          "locked": true,
          "points": 5,
          "schema_version": 1,
          "solution": false
        },
        "id": "wm_B5UBIDxef"
      },
      "outputs": [],
      "source": [
        "assert type(allergy_count(ALLERGIES_FILE)) == int\n",
        "assert allergy_count(ALLERGIES_FILE) == 4"
      ]
    },
    {
      "cell_type": "markdown",
      "metadata": {
        "id": "dNZY5HgxDxef"
      },
      "source": [
        "### 30.2 Number of Patients\n",
        "\n",
        "If you dig a little bit deaper into this list of allergies, you'll see that each result has a patient associated with it.  Create a funcation called `patient_count(json_file)` that will count how many unique patients we have in this JSON structure.  "
      ]
    },
    {
      "cell_type": "code",
      "execution_count": 107,
      "metadata": {
        "id": "T9BoVYmfDxeg"
      },
      "outputs": [],
      "source": [
        "\n",
        "\n",
        "import json\n",
        "from typing import Set\n",
        "ALLERGIES_FILE = \"allergies.json\"\n",
        "\n",
        "\n",
        "\n",
        "def patient_count(json_file: str) -> int:\n",
        "    # Load the JSON data from the provided json_file\n",
        "    with open(json_file, 'r') as file:\n",
        "        data = json.load(file)\n",
        "\n",
        "    # Use a set comprehension to extract unique patients\n",
        "    unique_patients: Set[str] = {record['patient'] for record in data if 'patient' in record}\n",
        "\n",
        "    # Return the count of unique patients\n",
        "    return len(unique_patients)\n",
        "\n",
        "\n",
        "\n",
        "\n",
        "\n"
      ]
    },
    {
      "cell_type": "code",
      "execution_count": 112,
      "metadata": {
        "id": "hp7zcMDsDxeg",
        "outputId": "64bf6238-5d2c-46a6-829c-0231033a87d6",
        "colab": {
          "base_uri": "https://localhost:8080/"
        }
      },
      "outputs": [
        {
          "output_type": "stream",
          "name": "stdout",
          "text": [
            "Loaded data: {'entry': [{'resource': {'resourceType': 'AllergyIntolerance', 'recordedDate': '2015-08-24T23:11:36Z', 'status': 'confirmed', 'criticality': 'CRITL', 'onset': '2012-11-07T00:00:00Z', 'patient': {'display': 'Jason Argonaut'}, 'substance': {'text': 'PENICILLIN G', 'coding': [{'system': 'http://www.nlm.nih.gov/research/umls/rxnorm', 'code': '7980', 'display': 'PENICILLIN G'}, {'system': 'http://fdasis.nlm.nih.gov', 'code': 'Q42T66VG0C', 'display': 'PENICILLIN G'}]}, 'reaction': [{'certainty': 'confirmed', 'onset': '2012-11-07T00:00:00Z', 'manifestation': [{'text': 'Hives'}], 'note': {'text': 'Severity low enough to be prescribed if needed.'}}], 'note': {'text': 'Severity low enough to be prescribed if needed.'}}}, {'resource': {'resourceType': 'AllergyIntolerance', 'recordedDate': '2015-11-07T20:55:10Z', 'status': 'confirmed', 'criticality': 'CRITL', 'id': 'TPcWiBG2h2E114Vh0sRT8fQB', 'onset': '2010-05-02T00:00:00Z', 'patient': {'display': 'Jason Argonaut'}, 'substance': {'text': 'SHELLFISH-DERIVED PRODUCTS', 'coding': [{'system': 'http://hl7.org/fhir/ndfrt', 'code': 'N0000007624', 'display': 'SHELLFISH-DERIVED PRODUCTS'}]}, 'reaction': [{'certainty': 'confirmed', 'onset': '2010-05-02T00:00:00Z', 'manifestation': [{'text': 'Itching'}]}]}}, {'resource': {'resourceType': 'AllergyIntolerance', 'recordedDate': '2015-11-07T20:56:34Z', 'status': 'confirmed', 'criticality': 'CRITH', 'id': 'TKebKfLXzu6Sp.LY-IpvpmQB', 'onset': '2014-03-07T00:00:00Z', 'patient': {'display': 'Jason Argonaut'}, 'substance': {'text': 'STRAWBERRY', 'coding': [{'system': 'http://www.nlm.nih.gov/research/umls/rxnorm', 'code': '892484', 'display': 'STRAWBERRY'}, {'system': 'http://fdasis.nlm.nih.gov', 'code': '4J2TY8Y81V', 'display': 'STRAWBERRY'}]}, 'reaction': [{'certainty': 'confirmed', 'onset': '2014-03-07T00:00:00Z', 'manifestation': [{'text': 'Anaphylaxis'}]}]}}, {'resource': {'resourceType': 'AllergyIntolerance', 'recordedDate': '2015-08-24T23:11:36Z', 'status': 'confirmed', 'criticality': 'CRITL', 'onset': '1978-12-08T00:00:00Z', 'patient': {'display': 'Paul Boal'}, 'substance': {'text': 'PENICILLIN G', 'coding': [{'system': 'http://www.nlm.nih.gov/research/umls/rxnorm', 'code': '7980', 'display': 'PENICILLIN G'}, {'system': 'http://fdasis.nlm.nih.gov', 'code': 'Q42T66VG0C', 'display': 'PENICILLIN G'}]}, 'reaction': [{'certainty': 'confirmed', 'onset': '1978-12-08T00:00:00Z', 'manifestation': [{'text': 'Bruising'}], 'note': {'text': 'Do not prescribe!'}}], 'note': {'text': 'Do not prescribe!'}}}]}\n",
            "Unique patients: set()\n"
          ]
        },
        {
          "output_type": "execute_result",
          "data": {
            "text/plain": [
              "0"
            ]
          },
          "metadata": {},
          "execution_count": 112
        }
      ],
      "source": [
        "patient_count(ALLERGIES_FILE)"
      ]
    },
    {
      "cell_type": "code",
      "execution_count": 113,
      "metadata": {
        "id": "gj5Su2foDxeg",
        "outputId": "3b415226-62b3-4b15-86e8-8f5ffaee6aa4",
        "colab": {
          "base_uri": "https://localhost:8080/",
          "height": 248
        }
      },
      "outputs": [
        {
          "output_type": "stream",
          "name": "stdout",
          "text": [
            "Loaded data: {'entry': [{'resource': {'resourceType': 'AllergyIntolerance', 'recordedDate': '2015-08-24T23:11:36Z', 'status': 'confirmed', 'criticality': 'CRITL', 'onset': '2012-11-07T00:00:00Z', 'patient': {'display': 'Jason Argonaut'}, 'substance': {'text': 'PENICILLIN G', 'coding': [{'system': 'http://www.nlm.nih.gov/research/umls/rxnorm', 'code': '7980', 'display': 'PENICILLIN G'}, {'system': 'http://fdasis.nlm.nih.gov', 'code': 'Q42T66VG0C', 'display': 'PENICILLIN G'}]}, 'reaction': [{'certainty': 'confirmed', 'onset': '2012-11-07T00:00:00Z', 'manifestation': [{'text': 'Hives'}], 'note': {'text': 'Severity low enough to be prescribed if needed.'}}], 'note': {'text': 'Severity low enough to be prescribed if needed.'}}}, {'resource': {'resourceType': 'AllergyIntolerance', 'recordedDate': '2015-11-07T20:55:10Z', 'status': 'confirmed', 'criticality': 'CRITL', 'id': 'TPcWiBG2h2E114Vh0sRT8fQB', 'onset': '2010-05-02T00:00:00Z', 'patient': {'display': 'Jason Argonaut'}, 'substance': {'text': 'SHELLFISH-DERIVED PRODUCTS', 'coding': [{'system': 'http://hl7.org/fhir/ndfrt', 'code': 'N0000007624', 'display': 'SHELLFISH-DERIVED PRODUCTS'}]}, 'reaction': [{'certainty': 'confirmed', 'onset': '2010-05-02T00:00:00Z', 'manifestation': [{'text': 'Itching'}]}]}}, {'resource': {'resourceType': 'AllergyIntolerance', 'recordedDate': '2015-11-07T20:56:34Z', 'status': 'confirmed', 'criticality': 'CRITH', 'id': 'TKebKfLXzu6Sp.LY-IpvpmQB', 'onset': '2014-03-07T00:00:00Z', 'patient': {'display': 'Jason Argonaut'}, 'substance': {'text': 'STRAWBERRY', 'coding': [{'system': 'http://www.nlm.nih.gov/research/umls/rxnorm', 'code': '892484', 'display': 'STRAWBERRY'}, {'system': 'http://fdasis.nlm.nih.gov', 'code': '4J2TY8Y81V', 'display': 'STRAWBERRY'}]}, 'reaction': [{'certainty': 'confirmed', 'onset': '2014-03-07T00:00:00Z', 'manifestation': [{'text': 'Anaphylaxis'}]}]}}, {'resource': {'resourceType': 'AllergyIntolerance', 'recordedDate': '2015-08-24T23:11:36Z', 'status': 'confirmed', 'criticality': 'CRITL', 'onset': '1978-12-08T00:00:00Z', 'patient': {'display': 'Paul Boal'}, 'substance': {'text': 'PENICILLIN G', 'coding': [{'system': 'http://www.nlm.nih.gov/research/umls/rxnorm', 'code': '7980', 'display': 'PENICILLIN G'}, {'system': 'http://fdasis.nlm.nih.gov', 'code': 'Q42T66VG0C', 'display': 'PENICILLIN G'}]}, 'reaction': [{'certainty': 'confirmed', 'onset': '1978-12-08T00:00:00Z', 'manifestation': [{'text': 'Bruising'}], 'note': {'text': 'Do not prescribe!'}}], 'note': {'text': 'Do not prescribe!'}}}]}\n",
            "Unique patients: set()\n",
            "Loaded data: {'entry': [{'resource': {'resourceType': 'AllergyIntolerance', 'recordedDate': '2015-08-24T23:11:36Z', 'status': 'confirmed', 'criticality': 'CRITL', 'onset': '2012-11-07T00:00:00Z', 'patient': {'display': 'Jason Argonaut'}, 'substance': {'text': 'PENICILLIN G', 'coding': [{'system': 'http://www.nlm.nih.gov/research/umls/rxnorm', 'code': '7980', 'display': 'PENICILLIN G'}, {'system': 'http://fdasis.nlm.nih.gov', 'code': 'Q42T66VG0C', 'display': 'PENICILLIN G'}]}, 'reaction': [{'certainty': 'confirmed', 'onset': '2012-11-07T00:00:00Z', 'manifestation': [{'text': 'Hives'}], 'note': {'text': 'Severity low enough to be prescribed if needed.'}}], 'note': {'text': 'Severity low enough to be prescribed if needed.'}}}, {'resource': {'resourceType': 'AllergyIntolerance', 'recordedDate': '2015-11-07T20:55:10Z', 'status': 'confirmed', 'criticality': 'CRITL', 'id': 'TPcWiBG2h2E114Vh0sRT8fQB', 'onset': '2010-05-02T00:00:00Z', 'patient': {'display': 'Jason Argonaut'}, 'substance': {'text': 'SHELLFISH-DERIVED PRODUCTS', 'coding': [{'system': 'http://hl7.org/fhir/ndfrt', 'code': 'N0000007624', 'display': 'SHELLFISH-DERIVED PRODUCTS'}]}, 'reaction': [{'certainty': 'confirmed', 'onset': '2010-05-02T00:00:00Z', 'manifestation': [{'text': 'Itching'}]}]}}, {'resource': {'resourceType': 'AllergyIntolerance', 'recordedDate': '2015-11-07T20:56:34Z', 'status': 'confirmed', 'criticality': 'CRITH', 'id': 'TKebKfLXzu6Sp.LY-IpvpmQB', 'onset': '2014-03-07T00:00:00Z', 'patient': {'display': 'Jason Argonaut'}, 'substance': {'text': 'STRAWBERRY', 'coding': [{'system': 'http://www.nlm.nih.gov/research/umls/rxnorm', 'code': '892484', 'display': 'STRAWBERRY'}, {'system': 'http://fdasis.nlm.nih.gov', 'code': '4J2TY8Y81V', 'display': 'STRAWBERRY'}]}, 'reaction': [{'certainty': 'confirmed', 'onset': '2014-03-07T00:00:00Z', 'manifestation': [{'text': 'Anaphylaxis'}]}]}}, {'resource': {'resourceType': 'AllergyIntolerance', 'recordedDate': '2015-08-24T23:11:36Z', 'status': 'confirmed', 'criticality': 'CRITL', 'onset': '1978-12-08T00:00:00Z', 'patient': {'display': 'Paul Boal'}, 'substance': {'text': 'PENICILLIN G', 'coding': [{'system': 'http://www.nlm.nih.gov/research/umls/rxnorm', 'code': '7980', 'display': 'PENICILLIN G'}, {'system': 'http://fdasis.nlm.nih.gov', 'code': 'Q42T66VG0C', 'display': 'PENICILLIN G'}]}, 'reaction': [{'certainty': 'confirmed', 'onset': '1978-12-08T00:00:00Z', 'manifestation': [{'text': 'Bruising'}], 'note': {'text': 'Do not prescribe!'}}], 'note': {'text': 'Do not prescribe!'}}}]}\n",
            "Unique patients: set()\n"
          ]
        },
        {
          "output_type": "error",
          "ename": "AssertionError",
          "evalue": "",
          "traceback": [
            "\u001b[0;31m---------------------------------------------------------------------------\u001b[0m",
            "\u001b[0;31mAssertionError\u001b[0m                            Traceback (most recent call last)",
            "\u001b[0;32m<ipython-input-113-269e652c7a2e>\u001b[0m in \u001b[0;36m<cell line: 2>\u001b[0;34m()\u001b[0m\n\u001b[1;32m      1\u001b[0m \u001b[0;32massert\u001b[0m \u001b[0mtype\u001b[0m\u001b[0;34m(\u001b[0m\u001b[0mpatient_count\u001b[0m\u001b[0;34m(\u001b[0m\u001b[0mALLERGIES_FILE\u001b[0m\u001b[0;34m)\u001b[0m\u001b[0;34m)\u001b[0m \u001b[0;34m==\u001b[0m \u001b[0mint\u001b[0m\u001b[0;34m\u001b[0m\u001b[0;34m\u001b[0m\u001b[0m\n\u001b[0;32m----> 2\u001b[0;31m \u001b[0;32massert\u001b[0m \u001b[0mpatient_count\u001b[0m\u001b[0;34m(\u001b[0m\u001b[0mALLERGIES_FILE\u001b[0m\u001b[0;34m)\u001b[0m \u001b[0;34m==\u001b[0m \u001b[0;36m2\u001b[0m\u001b[0;34m\u001b[0m\u001b[0;34m\u001b[0m\u001b[0m\n\u001b[0m",
            "\u001b[0;31mAssertionError\u001b[0m: "
          ]
        }
      ],
      "source": [
        "assert type(patient_count(ALLERGIES_FILE)) == int\n",
        "assert patient_count(ALLERGIES_FILE) == 2"
      ]
    },
    {
      "cell_type": "markdown",
      "metadata": {
        "id": "hajoBKgPDxeh"
      },
      "source": [
        "### 30.3 How Many Allergies per Patient\n",
        "\n",
        "Although each entry is a separate allergy, several of them are for the same patient.  Write a function called `allergy_per_patient(json_file)` that counts up how many allergies each patient has.\n"
      ]
    },
    {
      "cell_type": "code",
      "execution_count": 50,
      "metadata": {
        "id": "8Mz4tnTIDxeh",
        "outputId": "e1fe520a-1f39-430a-d0c8-f66d32c7de43",
        "colab": {
          "base_uri": "https://localhost:8080/"
        }
      },
      "outputs": [
        {
          "output_type": "stream",
          "name": "stdout",
          "text": [
            "{'Jason Argonaut': 3, 'Paul Boal': 1}\n"
          ]
        }
      ],
      "source": [
        "\n",
        "import json\n",
        "from collections import defaultdict\n",
        "\n",
        "ALLERGIES_FILE = \"allergies.json\"\n",
        "\n",
        "def allergy_per_patient(json_file):\n",
        "    with open(json_file) as f:\n",
        "        data = json.load(f)\n",
        "\n",
        "    allergies_per_patient = defaultdict(int)\n",
        "\n",
        "    # Iterate over the entries in the JSON data\n",
        "    for entry in data['entry']:\n",
        "        # Extract the patient's name from the nested structure\n",
        "        patient_name = entry['resource']['patient']['display']\n",
        "\n",
        "        # Count the number of reactions for the patient\n",
        "        # Using get to avoid KeyError if 'reaction' is not present\n",
        "        allergies_per_patient[patient_name] += len(entry['resource'].get('reaction', []))\n",
        "\n",
        "    return dict(allergies_per_patient)  # Convert defaultdict back to a regular dict for output\n",
        "\n",
        "# Example usage\n",
        "result = allergy_per_patient(ALLERGIES_FILE)\n",
        "print(result)\n",
        "\n",
        "# Example assertion (ensure you replace this with actual test cases)\n",
        "assert allergy_per_patient(ALLERGIES_FILE) == {'Paul Boal': 1, 'Jason Argonaut': 3}\n",
        "\n",
        "\n"
      ]
    },
    {
      "cell_type": "code",
      "execution_count": 51,
      "metadata": {
        "id": "9MKU6zeHDxeh",
        "outputId": "af8ef520-3fbd-4e72-a709-200c83e52fb4",
        "colab": {
          "base_uri": "https://localhost:8080/"
        }
      },
      "outputs": [
        {
          "output_type": "execute_result",
          "data": {
            "text/plain": [
              "{'Jason Argonaut': 3, 'Paul Boal': 1}"
            ]
          },
          "metadata": {},
          "execution_count": 51
        }
      ],
      "source": [
        "allergy_per_patient(ALLERGIES_FILE)"
      ]
    },
    {
      "cell_type": "code",
      "execution_count": 52,
      "metadata": {
        "id": "_CqhPi_ADxeh"
      },
      "outputs": [],
      "source": [
        "assert type(allergy_per_patient(ALLERGIES_FILE)) == dict\n",
        "assert allergy_per_patient(ALLERGIES_FILE) == {'Paul Boal': 1, 'Jason Argonaut': 3}"
      ]
    },
    {
      "cell_type": "markdown",
      "metadata": {
        "nbgrader": {
          "grade": false,
          "grade_id": "q2-question",
          "locked": true,
          "schema_version": 1,
          "solution": false
        },
        "id": "Z4yQB9gVDxei"
      },
      "source": [
        "### 30.4 Patient Allergies and Reaction\n",
        "\n",
        "You'll see in the file that each of the items in the `entry` list have several other attributes including a patient name, substance text representation, and a reaction manifestation.  Create a function named `allergy_list(json_file)` that will create an output list that has patient name, allergy, and reaction for each `entry`.  The actual result you should get will be:\n",
        "\n",
        "```python\n",
        "[['Jason Argonaut', 'PENICILLIN G', 'Hives'],\n",
        " ['Paul Boal', 'PENICILLIN G', 'Bruising'],\n",
        " ['Jason Argonaut', 'SHELLFISH-DERIVED PRODUCTS', 'Itching'],\n",
        " ['Jason Argonaut', 'STRAWBERRY', 'Anaphylaxis']]\n",
        "```\n",
        "\n",
        "You'll notice that the reaction and the manifestation of that action are lists.  You only need to capture the first reaction and the first manifestation of the action.  That is, if there is a list of things, just output the first one."
      ]
    },
    {
      "cell_type": "code",
      "execution_count": 101,
      "metadata": {
        "nbgrader": {
          "grade": false,
          "grade_id": "q2-answer",
          "locked": false,
          "schema_version": 1,
          "solution": true
        },
        "id": "UGJJwe39Dxei"
      },
      "outputs": [],
      "source": [
        "import json\n",
        "\n",
        "def allergy_list(json_file):\n",
        "    with open(json_file, 'r') as sai:\n",
        "        data = json.load(sai)\n",
        "        output = []\n",
        "        for entry in data['entry']:\n",
        "            patient_name = entry['resource']['patient']['display']\n",
        "            substance = entry['resource']['substance']['text']\n",
        "            reaction = entry['resource']['reaction'][0]['manifestation'][0]['text']\n",
        "            output.append([patient_name, substance, reaction])\n",
        "        return output\n",
        "\n",
        "\n",
        "\n",
        "\n",
        ""
      ]
    },
    {
      "cell_type": "code",
      "execution_count": 102,
      "metadata": {
        "id": "JhiJFvPkDxei",
        "outputId": "41aa1447-4716-42fb-da5a-7a926989d8e0",
        "colab": {
          "base_uri": "https://localhost:8080/"
        }
      },
      "outputs": [
        {
          "output_type": "execute_result",
          "data": {
            "text/plain": [
              "[['Jason Argonaut', 'PENICILLIN G', 'Hives'],\n",
              " ['Jason Argonaut', 'SHELLFISH-DERIVED PRODUCTS', 'Itching'],\n",
              " ['Jason Argonaut', 'STRAWBERRY', 'Anaphylaxis'],\n",
              " ['Paul Boal', 'PENICILLIN G', 'Bruising']]"
            ]
          },
          "metadata": {},
          "execution_count": 102
        }
      ],
      "source": [
        "allergy_list(ALLERGIES_FILE)"
      ]
    },
    {
      "cell_type": "code",
      "execution_count": 103,
      "metadata": {
        "nbgrader": {
          "grade": true,
          "grade_id": "q2-tests",
          "locked": true,
          "points": 10,
          "schema_version": 1,
          "solution": false
        },
        "id": "BWFCPpXbDxei"
      },
      "outputs": [],
      "source": [
        "assert allergy_list(ALLERGIES_FILE) == [['Jason Argonaut', 'PENICILLIN G', 'Hives'],\n",
        " ['Jason Argonaut', 'SHELLFISH-DERIVED PRODUCTS', 'Itching'],\n",
        " ['Jason Argonaut', 'STRAWBERRY', 'Anaphylaxis'],\n",
        " ['Paul Boal', 'PENICILLIN G', 'Bruising']]\n"
      ]
    },
    {
      "cell_type": "markdown",
      "metadata": {
        "nbgrader": {
          "grade": false,
          "grade_id": "q3-question",
          "locked": true,
          "schema_version": 1,
          "solution": false
        },
        "id": "TTPEQnFkDxei"
      },
      "source": [
        "### 30.5 Allergy Reaction\n",
        "\n",
        "Write a function called `allergy_reaction(json_file,patient,substance)` that takes three parameter and returns the reaction that will happen if the patient takes the specified substance.  You can solve this, in part, by calling your `allergy_list` function inside your new `allergy_reaction` function.\n",
        "\n",
        "If the substance is not found in the allergy list, the function should return None."
      ]
    },
    {
      "cell_type": "code",
      "execution_count": 63,
      "metadata": {
        "nbgrader": {
          "grade": false,
          "grade_id": "q3-answer",
          "locked": false,
          "schema_version": 1,
          "solution": true
        },
        "id": "ZE1FZTktDxei"
      },
      "outputs": [],
      "source": [
        "import json\n",
        "\n",
        "def allergy_list(json_file):\n",
        "    \"\"\"Retrieve a list of all patient allergies from the JSON file.\"\"\"\n",
        "    with open(json_file, 'r') as file:\n",
        "        data = json.load(file)\n",
        "\n",
        "    return data  # Return the top-level dictionary\n",
        "\n",
        "def allergy_reaction(json_file, patient, substance):\n",
        "    \"\"\"Return the reaction for a given patient if they are allergic to the specified substance.\"\"\"\n",
        "    allergies_data = allergy_list(json_file)\n",
        "\n",
        "    # Access the 'entry' list in the dictionary\n",
        "    entries = allergies_data.get('entry', [])\n",
        "\n",
        "    # Search for the patient in the entries\n",
        "    for record in entries:\n",
        "        resource = record.get('resource', {})\n",
        "\n",
        "        # Check if the patient matches\n",
        "        if resource.get('patient', {}).get('display') == patient:\n",
        "            # Check if the substance matches\n",
        "            if resource.get('substance', {}).get('text') == substance:\n",
        "                # Extract the reaction and return the first manifestation text\n",
        "                if resource.get('reaction'):\n",
        "                    return resource['reaction'][0]['manifestation'][0]['text']\n",
        "\n",
        "    return None  # Return None if the patient or substance is not found\n",
        "\n",
        "# Example usage:\n",
        "# reaction = allergy_reaction('allergy_data.json', 'Jason Argonaut', 'PENICILLIN G')\n",
        "# print(reaction)  # Expected output: 'Hives'\n",
        "\n"
      ]
    },
    {
      "cell_type": "code",
      "execution_count": 64,
      "metadata": {
        "id": "dAV9mG1PDxej",
        "outputId": "01fed1f1-ab92-4873-faca-f8766a5ab37c",
        "colab": {
          "base_uri": "https://localhost:8080/",
          "height": 35
        }
      },
      "outputs": [
        {
          "output_type": "execute_result",
          "data": {
            "text/plain": [
              "'Hives'"
            ],
            "application/vnd.google.colaboratory.intrinsic+json": {
              "type": "string"
            }
          },
          "metadata": {},
          "execution_count": 64
        }
      ],
      "source": [
        "allergy_reaction(ALLERGIES_FILE, 'Jason Argonaut', 'PENICILLIN G')"
      ]
    },
    {
      "cell_type": "code",
      "execution_count": 65,
      "metadata": {
        "nbgrader": {
          "grade": true,
          "grade_id": "q3-tests",
          "locked": true,
          "points": 5,
          "schema_version": 1,
          "solution": false
        },
        "id": "6U0Syt6cDxej"
      },
      "outputs": [],
      "source": [
        "assert allergy_reaction(ALLERGIES_FILE, 'Jason Argonaut', 'PENICILLIN G') == 'Hives'\n",
        "assert allergy_reaction(ALLERGIES_FILE, 'Jason Argonaut', 'SHELLFISH-DERIVED PRODUCTS') == 'Itching'\n",
        "assert allergy_reaction(ALLERGIES_FILE, 'Jason Argonaut', 'STRAWBERRY') == 'Anaphylaxis'\n",
        "assert allergy_reaction(ALLERGIES_FILE, 'Jason Argonaut', 'PENICILLIN') == None\n",
        "assert allergy_reaction(ALLERGIES_FILE, 'Paul Boal', 'PENICILLIN G') == 'Bruising'"
      ]
    },
    {
      "cell_type": "markdown",
      "metadata": {
        "id": "uYfzN1_rDxej"
      },
      "source": [
        "---\n",
        "\n",
        "## Check your work above\n",
        "\n",
        "If you didn't get them all correct, take a few minutes to think through those that aren't correct.\n",
        "\n",
        "\n",
        "## Submitting Your Work\n",
        "\n",
        "In order to submit your work, you'll need to save this notebook file back to GitHub.  To do that in Google Colab:\n",
        "1. File -> Save a Copy in GitHub\n",
        "2. Make sure your HDS5210 repository is selected\n",
        "3. Make sure the file name includes the week number like this: `week06/week06_assignment_2.ipynb`\n",
        "4. Add a commit message that means something\n",
        "\n",
        "**Be sure week names are lowercase and use a two digit week number!!**\n",
        "\n",
        "**Be sure you use the same file name provided by the instructor!!**\n",
        "\n"
      ]
    }
  ],
  "metadata": {
    "celltoolbar": "Create Assignment",
    "kernelspec": {
      "display_name": "Python 3",
      "language": "python",
      "name": "python3"
    },
    "language_info": {
      "codemirror_mode": {
        "name": "ipython",
        "version": 3
      },
      "file_extension": ".py",
      "mimetype": "text/x-python",
      "name": "python",
      "nbconvert_exporter": "python",
      "pygments_lexer": "ipython3",
      "version": "3.9.6"
    },
    "colab": {
      "provenance": [],
      "include_colab_link": true
    }
  },
  "nbformat": 4,
  "nbformat_minor": 0
}